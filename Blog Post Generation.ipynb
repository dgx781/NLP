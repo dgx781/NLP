{
 "cells": [
  {
   "cell_type": "code",
   "execution_count": 4,
   "id": "907a611c",
   "metadata": {},
   "outputs": [],
   "source": [
    "from transformers import pipeline"
   ]
  },
  {
   "cell_type": "code",
   "execution_count": 5,
   "id": "2a64a290",
   "metadata": {},
   "outputs": [],
   "source": [
    "from transformers import GPT2LMHeadModel, GPT2Tokenizer"
   ]
  },
  {
   "cell_type": "code",
   "execution_count": 7,
   "id": "b9f5bc47",
   "metadata": {},
   "outputs": [],
   "source": [
    "tokenizer= GPT2Tokenizer.from_pretrained('gpt2')\n",
    "model= GPT2LMHeadModel.from_pretrained('gpt2', pad_token_id= tokenizer.eos_token_id)"
   ]
  },
  {
   "cell_type": "code",
   "execution_count": 8,
   "id": "e989e40f",
   "metadata": {},
   "outputs": [],
   "source": [
    "sentence= \"Machine Learning is fundamental tool for Automation\"\n",
    "ids= tokenizer.encode(sentence, return_tensors='pt')"
   ]
  },
  {
   "cell_type": "code",
   "execution_count": 9,
   "id": "97252d07",
   "metadata": {},
   "outputs": [
    {
     "data": {
      "text/plain": [
       "tensor([[37573, 18252,   318,  7531,  2891,   329, 17406,   341]])"
      ]
     },
     "execution_count": 9,
     "metadata": {},
     "output_type": "execute_result"
    }
   ],
   "source": [
    "ids"
   ]
  },
  {
   "cell_type": "code",
   "execution_count": 23,
   "id": "3111e45f",
   "metadata": {},
   "outputs": [
    {
     "name": "stderr",
     "output_type": "stream",
     "text": [
      "C:\\Users\\DIBYOJIT\\AppData\\Roaming\\Python\\Python39\\site-packages\\transformers\\generation\\utils.py:1132: UserWarning: Using the model-agnostic default `max_length` (=20) to control the generation length. We recommend setting `max_new_tokens` to control the maximum length of the generation.\n",
      "  warnings.warn(\n"
     ]
    }
   ],
   "source": [
    "output= model.generate(ids)"
   ]
  },
  {
   "cell_type": "code",
   "execution_count": 24,
   "id": "ddf38042",
   "metadata": {},
   "outputs": [
    {
     "data": {
      "text/plain": [
       "tensor([[37573, 18252,   318,  7531,  2891,   329, 17406,   341,    13,   632,\n",
       "           318,   257,  2891,   326,   460,   307,   973,   284,  2251,   257]])"
      ]
     },
     "execution_count": 24,
     "metadata": {},
     "output_type": "execute_result"
    }
   ],
   "source": [
    "output"
   ]
  },
  {
   "cell_type": "code",
   "execution_count": 27,
   "id": "141b0f29",
   "metadata": {},
   "outputs": [],
   "source": [
    "result= tokenizer.decode(output[0], skip_special_tokens=True)"
   ]
  },
  {
   "cell_type": "code",
   "execution_count": 28,
   "id": "f90c7a30",
   "metadata": {},
   "outputs": [
    {
     "data": {
      "text/plain": [
       "'Machine Learning is fundamental tool for Automation. It is a tool that can be used to create a'"
      ]
     },
     "execution_count": 28,
     "metadata": {},
     "output_type": "execute_result"
    }
   ],
   "source": [
    "result"
   ]
  },
  {
   "cell_type": "code",
   "execution_count": 29,
   "id": "c7544d88",
   "metadata": {},
   "outputs": [],
   "source": [
    "s2= \"AI is\"\n",
    "tokens=tokenizer.encode(s2, return_tensors='pt')"
   ]
  },
  {
   "cell_type": "code",
   "execution_count": 30,
   "id": "8aae94e1",
   "metadata": {},
   "outputs": [
    {
     "data": {
      "text/plain": [
       "tensor([[20185,   318]])"
      ]
     },
     "execution_count": 30,
     "metadata": {},
     "output_type": "execute_result"
    }
   ],
   "source": [
    "tokens"
   ]
  },
  {
   "cell_type": "code",
   "execution_count": 31,
   "id": "2026f291",
   "metadata": {},
   "outputs": [
    {
     "name": "stderr",
     "output_type": "stream",
     "text": [
      "C:\\Users\\DIBYOJIT\\AppData\\Roaming\\Python\\Python39\\site-packages\\transformers\\generation\\utils.py:1132: UserWarning: Using the model-agnostic default `max_length` (=20) to control the generation length. We recommend setting `max_new_tokens` to control the maximum length of the generation.\n",
      "  warnings.warn(\n"
     ]
    }
   ],
   "source": [
    "output= model.generate(tokens)"
   ]
  },
  {
   "cell_type": "code",
   "execution_count": 32,
   "id": "224d415b",
   "metadata": {},
   "outputs": [
    {
     "data": {
      "text/plain": [
       "tensor([[20185,   318,   257,  1664,   326,   468,   587,  1762,   319,   257,\n",
       "           649,   835,   284,   787,   262,  4455,   517,  9857,   284,  2506]])"
      ]
     },
     "execution_count": 32,
     "metadata": {},
     "output_type": "execute_result"
    }
   ],
   "source": [
    "output"
   ]
  },
  {
   "cell_type": "code",
   "execution_count": 33,
   "id": "8c7e5c65",
   "metadata": {},
   "outputs": [
    {
     "data": {
      "text/plain": [
       "'AI is a company that has been working on a new way to make the Internet more accessible to everyone'"
      ]
     },
     "execution_count": 33,
     "metadata": {},
     "output_type": "execute_result"
    }
   ],
   "source": [
    "result2= tokenizer.decode(output[0])\n",
    "result2"
   ]
  }
 ],
 "metadata": {
  "kernelspec": {
   "display_name": "Python 3 (ipykernel)",
   "language": "python",
   "name": "python3"
  },
  "language_info": {
   "codemirror_mode": {
    "name": "ipython",
    "version": 3
   },
   "file_extension": ".py",
   "mimetype": "text/x-python",
   "name": "python",
   "nbconvert_exporter": "python",
   "pygments_lexer": "ipython3",
   "version": "3.9.17"
  }
 },
 "nbformat": 4,
 "nbformat_minor": 5
}
