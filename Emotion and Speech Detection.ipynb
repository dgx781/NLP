{
 "cells": [
  {
   "cell_type": "code",
   "execution_count": 4,
   "id": "d0cef1d8",
   "metadata": {},
   "outputs": [
    {
     "name": "stdout",
     "output_type": "stream",
     "text": [
      "Requirement already satisfied: pysentimiento in c:\\users\\dibyojit\\appdata\\local\\rstudio\\ctx\\lib\\site-packages (0.7.3)\n",
      "Requirement already satisfied: accelerate>=0.27.2 in c:\\users\\dibyojit\\appdata\\local\\rstudio\\ctx\\lib\\site-packages (from pysentimiento) (0.33.0)\n",
      "Requirement already satisfied: datasets>=2.10.1 in c:\\users\\dibyojit\\appdata\\local\\rstudio\\ctx\\lib\\site-packages (from pysentimiento) (2.12.0)\n",
      "Requirement already satisfied: emoji>=1.6.1 in c:\\users\\dibyojit\\appdata\\local\\rstudio\\ctx\\lib\\site-packages (from pysentimiento) (2.12.1)\n",
      "Requirement already satisfied: spacy>=3.5.0 in c:\\users\\dibyojit\\appdata\\local\\rstudio\\ctx\\lib\\site-packages (from pysentimiento) (3.7.5)\n",
      "Requirement already satisfied: torch!=2.0.1,>=2.0.0 in c:\\users\\dibyojit\\appdata\\local\\rstudio\\ctx\\lib\\site-packages (from pysentimiento) (2.4.0)\n",
      "Requirement already satisfied: transformers>=4.13.0 in c:\\users\\dibyojit\\appdata\\local\\rstudio\\ctx\\lib\\site-packages (from pysentimiento) (4.32.1)\n",
      "Requirement already satisfied: numpy<2.0.0,>=1.17 in c:\\users\\dibyojit\\appdata\\roaming\\python\\python39\\site-packages (from accelerate>=0.27.2->pysentimiento) (1.24.4)\n",
      "Requirement already satisfied: packaging>=20.0 in c:\\users\\dibyojit\\appdata\\local\\rstudio\\ctx\\lib\\site-packages (from accelerate>=0.27.2->pysentimiento) (23.1)\n",
      "Requirement already satisfied: psutil in c:\\users\\dibyojit\\appdata\\local\\rstudio\\ctx\\lib\\site-packages (from accelerate>=0.27.2->pysentimiento) (5.9.0)\n",
      "Requirement already satisfied: pyyaml in c:\\users\\dibyojit\\appdata\\local\\rstudio\\ctx\\lib\\site-packages (from accelerate>=0.27.2->pysentimiento) (6.0)\n",
      "Requirement already satisfied: huggingface-hub>=0.21.0 in c:\\users\\dibyojit\\appdata\\local\\rstudio\\ctx\\lib\\site-packages (from accelerate>=0.27.2->pysentimiento) (0.24.3)\n",
      "Requirement already satisfied: safetensors>=0.3.1 in c:\\users\\dibyojit\\appdata\\local\\rstudio\\ctx\\lib\\site-packages (from accelerate>=0.27.2->pysentimiento) (0.3.2)\n",
      "Requirement already satisfied: pyarrow>=8.0.0 in c:\\users\\dibyojit\\appdata\\local\\rstudio\\ctx\\lib\\site-packages (from datasets>=2.10.1->pysentimiento) (11.0.0)\n",
      "Requirement already satisfied: dill<0.3.7,>=0.3.0 in c:\\users\\dibyojit\\appdata\\local\\rstudio\\ctx\\lib\\site-packages (from datasets>=2.10.1->pysentimiento) (0.3.6)\n",
      "Requirement already satisfied: pandas in c:\\users\\dibyojit\\appdata\\local\\rstudio\\ctx\\lib\\site-packages (from datasets>=2.10.1->pysentimiento) (2.0.3)\n",
      "Requirement already satisfied: requests>=2.19.0 in c:\\users\\dibyojit\\appdata\\local\\rstudio\\ctx\\lib\\site-packages (from datasets>=2.10.1->pysentimiento) (2.31.0)\n",
      "Requirement already satisfied: tqdm>=4.62.1 in c:\\users\\dibyojit\\appdata\\local\\rstudio\\ctx\\lib\\site-packages (from datasets>=2.10.1->pysentimiento) (4.65.0)\n",
      "Requirement already satisfied: xxhash in c:\\users\\dibyojit\\appdata\\local\\rstudio\\ctx\\lib\\site-packages (from datasets>=2.10.1->pysentimiento) (2.0.2)\n",
      "Requirement already satisfied: multiprocess in c:\\users\\dibyojit\\appdata\\local\\rstudio\\ctx\\lib\\site-packages (from datasets>=2.10.1->pysentimiento) (0.70.14)\n",
      "Requirement already satisfied: fsspec[http]>=2021.11.1 in c:\\users\\dibyojit\\appdata\\local\\rstudio\\ctx\\lib\\site-packages (from datasets>=2.10.1->pysentimiento) (2024.6.1)\n",
      "Requirement already satisfied: aiohttp in c:\\users\\dibyojit\\appdata\\local\\rstudio\\ctx\\lib\\site-packages (from datasets>=2.10.1->pysentimiento) (3.8.3)\n",
      "Requirement already satisfied: responses<0.19 in c:\\users\\dibyojit\\appdata\\local\\rstudio\\ctx\\lib\\site-packages (from datasets>=2.10.1->pysentimiento) (0.13.3)\n",
      "Requirement already satisfied: typing-extensions>=4.7.0 in c:\\users\\dibyojit\\appdata\\local\\rstudio\\ctx\\lib\\site-packages (from emoji>=1.6.1->pysentimiento) (4.10.0)\n",
      "Requirement already satisfied: spacy-legacy<3.1.0,>=3.0.11 in c:\\users\\dibyojit\\appdata\\local\\rstudio\\ctx\\lib\\site-packages (from spacy>=3.5.0->pysentimiento) (3.0.12)\n",
      "Requirement already satisfied: spacy-loggers<2.0.0,>=1.0.0 in c:\\users\\dibyojit\\appdata\\local\\rstudio\\ctx\\lib\\site-packages (from spacy>=3.5.0->pysentimiento) (1.0.5)\n",
      "Requirement already satisfied: murmurhash<1.1.0,>=0.28.0 in c:\\users\\dibyojit\\appdata\\local\\rstudio\\ctx\\lib\\site-packages (from spacy>=3.5.0->pysentimiento) (1.0.10)\n",
      "Requirement already satisfied: cymem<2.1.0,>=2.0.2 in c:\\users\\dibyojit\\appdata\\local\\rstudio\\ctx\\lib\\site-packages (from spacy>=3.5.0->pysentimiento) (2.0.8)\n",
      "Requirement already satisfied: preshed<3.1.0,>=3.0.2 in c:\\users\\dibyojit\\appdata\\local\\rstudio\\ctx\\lib\\site-packages (from spacy>=3.5.0->pysentimiento) (3.0.9)\n",
      "Requirement already satisfied: thinc<8.3.0,>=8.2.2 in c:\\users\\dibyojit\\appdata\\local\\rstudio\\ctx\\lib\\site-packages (from spacy>=3.5.0->pysentimiento) (8.2.5)\n",
      "Requirement already satisfied: wasabi<1.2.0,>=0.9.1 in c:\\users\\dibyojit\\appdata\\local\\rstudio\\ctx\\lib\\site-packages (from spacy>=3.5.0->pysentimiento) (1.1.3)\n",
      "Requirement already satisfied: srsly<3.0.0,>=2.4.3 in c:\\users\\dibyojit\\appdata\\local\\rstudio\\ctx\\lib\\site-packages (from spacy>=3.5.0->pysentimiento) (2.4.8)\n",
      "Requirement already satisfied: catalogue<2.1.0,>=2.0.6 in c:\\users\\dibyojit\\appdata\\local\\rstudio\\ctx\\lib\\site-packages (from spacy>=3.5.0->pysentimiento) (2.0.10)\n",
      "Requirement already satisfied: weasel<0.5.0,>=0.1.0 in c:\\users\\dibyojit\\appdata\\local\\rstudio\\ctx\\lib\\site-packages (from spacy>=3.5.0->pysentimiento) (0.4.1)\n",
      "Requirement already satisfied: typer<1.0.0,>=0.3.0 in c:\\users\\dibyojit\\appdata\\local\\rstudio\\ctx\\lib\\site-packages (from spacy>=3.5.0->pysentimiento) (0.12.3)\n",
      "Requirement already satisfied: pydantic!=1.8,!=1.8.1,<3.0.0,>=1.7.4 in c:\\users\\dibyojit\\appdata\\local\\rstudio\\ctx\\lib\\site-packages (from spacy>=3.5.0->pysentimiento) (1.10.11)\n",
      "Requirement already satisfied: jinja2 in c:\\users\\dibyojit\\appdata\\local\\rstudio\\ctx\\lib\\site-packages (from spacy>=3.5.0->pysentimiento) (3.1.2)\n",
      "Requirement already satisfied: setuptools in c:\\users\\dibyojit\\appdata\\local\\rstudio\\ctx\\lib\\site-packages (from spacy>=3.5.0->pysentimiento) (68.0.0)\n",
      "Requirement already satisfied: langcodes<4.0.0,>=3.2.0 in c:\\users\\dibyojit\\appdata\\local\\rstudio\\ctx\\lib\\site-packages (from spacy>=3.5.0->pysentimiento) (3.4.0)\n",
      "Requirement already satisfied: filelock in c:\\users\\dibyojit\\appdata\\local\\rstudio\\ctx\\lib\\site-packages (from torch!=2.0.1,>=2.0.0->pysentimiento) (3.9.0)\n",
      "Requirement already satisfied: sympy in c:\\users\\dibyojit\\appdata\\local\\rstudio\\ctx\\lib\\site-packages (from torch!=2.0.1,>=2.0.0->pysentimiento) (1.11.1)\n",
      "Requirement already satisfied: networkx in c:\\users\\dibyojit\\appdata\\local\\rstudio\\ctx\\lib\\site-packages (from torch!=2.0.1,>=2.0.0->pysentimiento) (3.1)\n",
      "Requirement already satisfied: regex!=2019.12.17 in c:\\users\\dibyojit\\appdata\\local\\rstudio\\ctx\\lib\\site-packages (from transformers>=4.13.0->pysentimiento) (2022.7.9)\n",
      "Requirement already satisfied: tokenizers!=0.11.3,<0.14,>=0.11.1 in c:\\users\\dibyojit\\appdata\\local\\rstudio\\ctx\\lib\\site-packages (from transformers>=4.13.0->pysentimiento) (0.13.2)\n",
      "Requirement already satisfied: attrs>=17.3.0 in c:\\users\\dibyojit\\appdata\\local\\rstudio\\ctx\\lib\\site-packages (from aiohttp->datasets>=2.10.1->pysentimiento) (22.1.0)\n",
      "Requirement already satisfied: charset-normalizer<3.0,>=2.0 in c:\\users\\dibyojit\\appdata\\local\\rstudio\\ctx\\lib\\site-packages (from aiohttp->datasets>=2.10.1->pysentimiento) (2.0.4)\n",
      "Requirement already satisfied: multidict<7.0,>=4.5 in c:\\users\\dibyojit\\appdata\\local\\rstudio\\ctx\\lib\\site-packages (from aiohttp->datasets>=2.10.1->pysentimiento) (6.0.2)\n",
      "Requirement already satisfied: async-timeout<5.0,>=4.0.0a3 in c:\\users\\dibyojit\\appdata\\local\\rstudio\\ctx\\lib\\site-packages (from aiohttp->datasets>=2.10.1->pysentimiento) (4.0.2)\n",
      "Requirement already satisfied: yarl<2.0,>=1.0 in c:\\users\\dibyojit\\appdata\\local\\rstudio\\ctx\\lib\\site-packages (from aiohttp->datasets>=2.10.1->pysentimiento) (1.8.1)\n",
      "Requirement already satisfied: frozenlist>=1.1.1 in c:\\users\\dibyojit\\appdata\\local\\rstudio\\ctx\\lib\\site-packages (from aiohttp->datasets>=2.10.1->pysentimiento) (1.3.3)\n",
      "Requirement already satisfied: aiosignal>=1.1.2 in c:\\users\\dibyojit\\appdata\\local\\rstudio\\ctx\\lib\\site-packages (from aiohttp->datasets>=2.10.1->pysentimiento) (1.2.0)\n",
      "Requirement already satisfied: language-data>=1.2 in c:\\users\\dibyojit\\appdata\\local\\rstudio\\ctx\\lib\\site-packages (from langcodes<4.0.0,>=3.2.0->spacy>=3.5.0->pysentimiento) (1.2.0)\n",
      "Requirement already satisfied: idna<4,>=2.5 in c:\\users\\dibyojit\\appdata\\local\\rstudio\\ctx\\lib\\site-packages (from requests>=2.19.0->datasets>=2.10.1->pysentimiento) (2.10)\n",
      "Requirement already satisfied: urllib3<3,>=1.21.1 in c:\\users\\dibyojit\\appdata\\local\\rstudio\\ctx\\lib\\site-packages (from requests>=2.19.0->datasets>=2.10.1->pysentimiento) (1.26.16)\n",
      "Requirement already satisfied: certifi>=2017.4.17 in c:\\users\\dibyojit\\appdata\\local\\rstudio\\ctx\\lib\\site-packages (from requests>=2.19.0->datasets>=2.10.1->pysentimiento) (2023.7.22)\n",
      "Requirement already satisfied: six in c:\\users\\dibyojit\\appdata\\local\\rstudio\\ctx\\lib\\site-packages (from responses<0.19->datasets>=2.10.1->pysentimiento) (1.15.0)\n",
      "Requirement already satisfied: blis<0.8.0,>=0.7.8 in c:\\users\\dibyojit\\appdata\\local\\rstudio\\ctx\\lib\\site-packages (from thinc<8.3.0,>=8.2.2->spacy>=3.5.0->pysentimiento) (0.7.11)\n",
      "Requirement already satisfied: confection<1.0.0,>=0.0.1 in c:\\users\\dibyojit\\appdata\\local\\rstudio\\ctx\\lib\\site-packages (from thinc<8.3.0,>=8.2.2->spacy>=3.5.0->pysentimiento) (0.1.5)\n",
      "Requirement already satisfied: colorama in c:\\users\\dibyojit\\appdata\\local\\rstudio\\ctx\\lib\\site-packages (from tqdm>=4.62.1->datasets>=2.10.1->pysentimiento) (0.4.6)\n",
      "Requirement already satisfied: click>=8.0.0 in c:\\users\\dibyojit\\appdata\\local\\rstudio\\ctx\\lib\\site-packages (from typer<1.0.0,>=0.3.0->spacy>=3.5.0->pysentimiento) (8.0.4)\n",
      "Requirement already satisfied: shellingham>=1.3.0 in c:\\users\\dibyojit\\appdata\\local\\rstudio\\ctx\\lib\\site-packages (from typer<1.0.0,>=0.3.0->spacy>=3.5.0->pysentimiento) (1.5.4)\n",
      "Requirement already satisfied: rich>=10.11.0 in c:\\users\\dibyojit\\appdata\\local\\rstudio\\ctx\\lib\\site-packages (from typer<1.0.0,>=0.3.0->spacy>=3.5.0->pysentimiento) (13.7.1)\n",
      "Requirement already satisfied: cloudpathlib<1.0.0,>=0.7.0 in c:\\users\\dibyojit\\appdata\\local\\rstudio\\ctx\\lib\\site-packages (from weasel<0.5.0,>=0.1.0->spacy>=3.5.0->pysentimiento) (0.18.1)\n",
      "Requirement already satisfied: smart-open<8.0.0,>=5.2.1 in c:\\users\\dibyojit\\appdata\\local\\rstudio\\ctx\\lib\\site-packages (from weasel<0.5.0,>=0.1.0->spacy>=3.5.0->pysentimiento) (5.2.1)\n",
      "Requirement already satisfied: MarkupSafe>=2.0 in c:\\users\\dibyojit\\appdata\\local\\rstudio\\ctx\\lib\\site-packages (from jinja2->spacy>=3.5.0->pysentimiento) (2.1.1)\n",
      "Requirement already satisfied: python-dateutil>=2.8.2 in c:\\users\\dibyojit\\appdata\\local\\rstudio\\ctx\\lib\\site-packages (from pandas->datasets>=2.10.1->pysentimiento) (2.8.2)\n",
      "Requirement already satisfied: pytz>=2020.1 in c:\\users\\dibyojit\\appdata\\local\\rstudio\\ctx\\lib\\site-packages (from pandas->datasets>=2.10.1->pysentimiento) (2022.7)\n",
      "Requirement already satisfied: tzdata>=2022.1 in c:\\users\\dibyojit\\appdata\\local\\rstudio\\ctx\\lib\\site-packages (from pandas->datasets>=2.10.1->pysentimiento) (2023.3)\n",
      "Requirement already satisfied: mpmath>=0.19 in c:\\users\\dibyojit\\appdata\\local\\rstudio\\ctx\\lib\\site-packages (from sympy->torch!=2.0.1,>=2.0.0->pysentimiento) (1.3.0)\n",
      "Requirement already satisfied: marisa-trie>=0.7.7 in c:\\users\\dibyojit\\appdata\\local\\rstudio\\ctx\\lib\\site-packages (from language-data>=1.2->langcodes<4.0.0,>=3.2.0->spacy>=3.5.0->pysentimiento) (1.2.0)\n",
      "Requirement already satisfied: markdown-it-py>=2.2.0 in c:\\users\\dibyojit\\appdata\\local\\rstudio\\ctx\\lib\\site-packages (from rich>=10.11.0->typer<1.0.0,>=0.3.0->spacy>=3.5.0->pysentimiento) (2.2.0)\n",
      "Requirement already satisfied: pygments<3.0.0,>=2.13.0 in c:\\users\\dibyojit\\appdata\\local\\rstudio\\ctx\\lib\\site-packages (from rich>=10.11.0->typer<1.0.0,>=0.3.0->spacy>=3.5.0->pysentimiento) (2.15.1)\n",
      "Requirement already satisfied: mdurl~=0.1 in c:\\users\\dibyojit\\appdata\\local\\rstudio\\ctx\\lib\\site-packages (from markdown-it-py>=2.2.0->rich>=10.11.0->typer<1.0.0,>=0.3.0->spacy>=3.5.0->pysentimiento) (0.1.0)\n"
     ]
    },
    {
     "name": "stderr",
     "output_type": "stream",
     "text": [
      "WARNING: Ignoring invalid distribution -rotobuf (c:\\users\\dibyojit\\appdata\\local\\rstudio\\ctx\\lib\\site-packages)\n",
      "WARNING: Ignoring invalid distribution -rotobuf (c:\\users\\dibyojit\\appdata\\local\\rstudio\\ctx\\lib\\site-packages)\n"
     ]
    }
   ],
   "source": [
    "!pip install pysentimiento"
   ]
  },
  {
   "cell_type": "code",
   "execution_count": 5,
   "id": "dbe3022c",
   "metadata": {},
   "outputs": [],
   "source": [
    "from pysentimiento import create_analyzer"
   ]
  },
  {
   "cell_type": "code",
   "execution_count": 7,
   "id": "2d353de8",
   "metadata": {},
   "outputs": [
    {
     "name": "stderr",
     "output_type": "stream",
     "text": [
      "C:\\Users\\DIBYOJIT\\AppData\\Local\\RStudio\\ctx\\lib\\site-packages\\huggingface_hub\\file_download.py:1150: FutureWarning: `resume_download` is deprecated and will be removed in version 1.0.0. Downloads always resume when possible. If you want to force a new download, use `force_download=True`.\n",
      "  warnings.warn(\n"
     ]
    },
    {
     "data": {
      "application/vnd.jupyter.widget-view+json": {
       "model_id": "2ba55cf4e3d949a8974fd2d1ffc7b031",
       "version_major": 2,
       "version_minor": 0
      },
      "text/plain": [
       "config.json:   0%|          | 0.00/999 [00:00<?, ?B/s]"
      ]
     },
     "metadata": {},
     "output_type": "display_data"
    },
    {
     "name": "stderr",
     "output_type": "stream",
     "text": [
      "C:\\Users\\DIBYOJIT\\AppData\\Local\\RStudio\\ctx\\lib\\site-packages\\huggingface_hub\\file_download.py:159: UserWarning: `huggingface_hub` cache-system uses symlinks by default to efficiently store duplicated files but your machine does not support them in C:\\Users\\DIBYOJIT\\.cache\\huggingface\\hub\\models--finiteautomata--bertweet-base-emotion-analysis. Caching files will still work but in a degraded version that might require more space on your disk. This warning can be disabled by setting the `HF_HUB_DISABLE_SYMLINKS_WARNING` environment variable. For more details, see https://huggingface.co/docs/huggingface_hub/how-to-cache#limitations.\n",
      "To support symlinks on Windows, you either need to activate Developer Mode or to run Python as an administrator. In order to see activate developer mode, see this article: https://docs.microsoft.com/en-us/windows/apps/get-started/enable-your-device-for-development\n",
      "  warnings.warn(message)\n"
     ]
    },
    {
     "data": {
      "application/vnd.jupyter.widget-view+json": {
       "model_id": "3fdfd650bf874c268ddd783fd9cba2fe",
       "version_major": 2,
       "version_minor": 0
      },
      "text/plain": [
       "model.safetensors:   0%|          | 0.00/540M [00:00<?, ?B/s]"
      ]
     },
     "metadata": {},
     "output_type": "display_data"
    },
    {
     "data": {
      "application/vnd.jupyter.widget-view+json": {
       "model_id": "a2804e1a049849b88af2a7992ff9e728",
       "version_major": 2,
       "version_minor": 0
      },
      "text/plain": [
       "tokenizer_config.json:   0%|          | 0.00/295 [00:00<?, ?B/s]"
      ]
     },
     "metadata": {},
     "output_type": "display_data"
    },
    {
     "data": {
      "application/vnd.jupyter.widget-view+json": {
       "model_id": "cc830ea0310b4052bf63075f0ad9f6b4",
       "version_major": 2,
       "version_minor": 0
      },
      "text/plain": [
       "vocab.txt:   0%|          | 0.00/843k [00:00<?, ?B/s]"
      ]
     },
     "metadata": {},
     "output_type": "display_data"
    },
    {
     "data": {
      "application/vnd.jupyter.widget-view+json": {
       "model_id": "4c084206f0aa46e6a40d72c9f5fdeca8",
       "version_major": 2,
       "version_minor": 0
      },
      "text/plain": [
       "bpe.codes:   0%|          | 0.00/1.08M [00:00<?, ?B/s]"
      ]
     },
     "metadata": {},
     "output_type": "display_data"
    },
    {
     "data": {
      "application/vnd.jupyter.widget-view+json": {
       "model_id": "326588fbb3ae4c01914a90d137ba61ac",
       "version_major": 2,
       "version_minor": 0
      },
      "text/plain": [
       "added_tokens.json:   0%|          | 0.00/17.0 [00:00<?, ?B/s]"
      ]
     },
     "metadata": {},
     "output_type": "display_data"
    },
    {
     "data": {
      "application/vnd.jupyter.widget-view+json": {
       "model_id": "b6042f4b9bcd44ac8b669c98c7dd8e0d",
       "version_major": 2,
       "version_minor": 0
      },
      "text/plain": [
       "special_tokens_map.json:   0%|          | 0.00/150 [00:00<?, ?B/s]"
      ]
     },
     "metadata": {},
     "output_type": "display_data"
    },
    {
     "name": "stderr",
     "output_type": "stream",
     "text": [
      "C:\\Users\\DIBYOJIT\\AppData\\Local\\RStudio\\ctx\\lib\\site-packages\\accelerate\\accelerator.py:451: FutureWarning: Passing the following arguments to `Accelerator` is deprecated and will be removed in version 1.0 of Accelerate: dict_keys(['dispatch_batches']). Please pass an `accelerate.DataLoaderConfiguration` instead: \n",
      "dataloader_config = DataLoaderConfiguration(dispatch_batches=None)\n",
      "  warnings.warn(\n"
     ]
    }
   ],
   "source": [
    "emotions= create_analyzer(task='emotion', lang='en')"
   ]
  },
  {
   "cell_type": "code",
   "execution_count": 11,
   "id": "61b22ee1",
   "metadata": {},
   "outputs": [
    {
     "data": {
      "text/plain": [
       "AnalyzerOutput(output=disgust, probas={disgust: 0.807, others: 0.104, anger: 0.079, sadness: 0.003, surprise: 0.003, fear: 0.003, joy: 0.002})"
      ]
     },
     "execution_count": 11,
     "metadata": {},
     "output_type": "execute_result"
    }
   ],
   "source": [
    "result= emotions.predict(\"Just get out\")\n",
    "result"
   ]
  },
  {
   "cell_type": "code",
   "execution_count": 10,
   "id": "cca84104",
   "metadata": {},
   "outputs": [
    {
     "data": {
      "text/plain": [
       "'disgust'"
      ]
     },
     "execution_count": 10,
     "metadata": {},
     "output_type": "execute_result"
    }
   ],
   "source": [
    "result.output"
   ]
  },
  {
   "cell_type": "code",
   "execution_count": 12,
   "id": "909bae95",
   "metadata": {},
   "outputs": [
    {
     "data": {
      "text/plain": [
       "AnalyzerOutput(output=fear, probas={fear: 0.987, others: 0.004, sadness: 0.003, joy: 0.002, anger: 0.002, surprise: 0.002, disgust: 0.001})"
      ]
     },
     "execution_count": 12,
     "metadata": {},
     "output_type": "execute_result"
    }
   ],
   "source": [
    "qs= emotions.predict(\"ghosts actually haunt me in the night. It is a feary and dreadful situation\")\n",
    "qs"
   ]
  },
  {
   "cell_type": "code",
   "execution_count": 13,
   "id": "53ae18ee",
   "metadata": {},
   "outputs": [
    {
     "data": {
      "text/plain": [
       "{'others': 0.003699991386383772,\n",
       " 'joy': 0.0017845705151557922,\n",
       " 'sadness': 0.0027217695023864508,\n",
       " 'anger': 0.0017299562459811568,\n",
       " 'surprise': 0.0015407202299684286,\n",
       " 'disgust': 0.0014699159655719995,\n",
       " 'fear': 0.9870530962944031}"
      ]
     },
     "execution_count": 13,
     "metadata": {},
     "output_type": "execute_result"
    }
   ],
   "source": [
    "qs.probas"
   ]
  },
  {
   "cell_type": "code",
   "execution_count": 15,
   "id": "f5ef3bff",
   "metadata": {},
   "outputs": [
    {
     "data": {
      "text/plain": [
       "AnalyzerOutput(output=anger, probas={anger: 0.886, disgust: 0.094, others: 0.013, joy: 0.002, sadness: 0.002, fear: 0.002, surprise: 0.001})"
      ]
     },
     "execution_count": 15,
     "metadata": {},
     "output_type": "execute_result"
    }
   ],
   "source": [
    "qs2= emotions.predict(\"You are intolerable. Just get out my sight right now\")\n",
    "qs2"
   ]
  },
  {
   "cell_type": "code",
   "execution_count": 20,
   "id": "cc3ba26f",
   "metadata": {},
   "outputs": [
    {
     "data": {
      "text/plain": [
       "{'others': 0.01336947176605463,\n",
       " 'joy': 0.0021341212559491396,\n",
       " 'sadness': 0.0018388801254332066,\n",
       " 'anger': 0.8856939077377319,\n",
       " 'surprise': 0.0011932039633393288,\n",
       " 'disgust': 0.09396707266569138,\n",
       " 'fear': 0.001803492777980864}"
      ]
     },
     "execution_count": 20,
     "metadata": {},
     "output_type": "execute_result"
    }
   ],
   "source": [
    "qs2.probas"
   ]
  },
  {
   "cell_type": "code",
   "execution_count": 25,
   "id": "0cdc5480",
   "metadata": {},
   "outputs": [
    {
     "data": {
      "text/plain": [
       "AnalyzerOutput(output=joy, probas={joy: 0.804, others: 0.186, surprise: 0.002, fear: 0.002, anger: 0.002, sadness: 0.002, disgust: 0.001})"
      ]
     },
     "execution_count": 25,
     "metadata": {},
     "output_type": "execute_result"
    }
   ],
   "source": [
    "qs3= emotions.predict(\"I love to be an AI ML Engineer\")\n",
    "qs3"
   ]
  },
  {
   "cell_type": "code",
   "execution_count": 28,
   "id": "3c1b39bf",
   "metadata": {},
   "outputs": [],
   "source": [
    "def emotion_recognition(text):\n",
    "    emotions=create_analyzer(task='emotion', lang='en')\n",
    "    result= emotions.predict(text)\n",
    "    print(result.output)\n",
    "    print(result.probas)"
   ]
  },
  {
   "cell_type": "code",
   "execution_count": 29,
   "id": "81b6403d",
   "metadata": {},
   "outputs": [
    {
     "name": "stdout",
     "output_type": "stream",
     "text": [
      "joy\n",
      "{'others': 0.031689636409282684, 'joy': 0.9588996767997742, 'sadness': 0.001990046352148056, 'anger': 0.0020681675523519516, 'surprise': 0.002245417796075344, 'disgust': 0.0011820978252217174, 'fear': 0.0019249645993113518}\n"
     ]
    }
   ],
   "source": [
    "emotion_recognition(\"Let's enjoy the life\")"
   ]
  },
  {
   "cell_type": "code",
   "execution_count": 30,
   "id": "b3d593bb",
   "metadata": {},
   "outputs": [
    {
     "name": "stderr",
     "output_type": "stream",
     "text": [
      "C:\\Users\\DIBYOJIT\\AppData\\Local\\RStudio\\ctx\\lib\\site-packages\\huggingface_hub\\file_download.py:1150: FutureWarning: `resume_download` is deprecated and will be removed in version 1.0.0. Downloads always resume when possible. If you want to force a new download, use `force_download=True`.\n",
      "  warnings.warn(\n"
     ]
    },
    {
     "data": {
      "application/vnd.jupyter.widget-view+json": {
       "model_id": "de40845b5492472995ed0ada77990808",
       "version_major": 2,
       "version_minor": 0
      },
      "text/plain": [
       "config.json:   0%|          | 0.00/980 [00:00<?, ?B/s]"
      ]
     },
     "metadata": {},
     "output_type": "display_data"
    },
    {
     "name": "stderr",
     "output_type": "stream",
     "text": [
      "C:\\Users\\DIBYOJIT\\AppData\\Local\\RStudio\\ctx\\lib\\site-packages\\huggingface_hub\\file_download.py:159: UserWarning: `huggingface_hub` cache-system uses symlinks by default to efficiently store duplicated files but your machine does not support them in C:\\Users\\DIBYOJIT\\.cache\\huggingface\\hub\\models--pysentimiento--bertweet-hate-speech. Caching files will still work but in a degraded version that might require more space on your disk. This warning can be disabled by setting the `HF_HUB_DISABLE_SYMLINKS_WARNING` environment variable. For more details, see https://huggingface.co/docs/huggingface_hub/how-to-cache#limitations.\n",
      "To support symlinks on Windows, you either need to activate Developer Mode or to run Python as an administrator. In order to see activate developer mode, see this article: https://docs.microsoft.com/en-us/windows/apps/get-started/enable-your-device-for-development\n",
      "  warnings.warn(message)\n"
     ]
    },
    {
     "data": {
      "application/vnd.jupyter.widget-view+json": {
       "model_id": "381f3bd15b9347389ce69d476e8551c6",
       "version_major": 2,
       "version_minor": 0
      },
      "text/plain": [
       "pytorch_model.bin:   0%|          | 0.00/540M [00:00<?, ?B/s]"
      ]
     },
     "metadata": {},
     "output_type": "display_data"
    },
    {
     "name": "stderr",
     "output_type": "stream",
     "text": [
      "C:\\Users\\DIBYOJIT\\AppData\\Local\\RStudio\\ctx\\lib\\site-packages\\transformers\\modeling_utils.py:479: FutureWarning: You are using `torch.load` with `weights_only=False` (the current default value), which uses the default pickle module implicitly. It is possible to construct malicious pickle data which will execute arbitrary code during unpickling (See https://github.com/pytorch/pytorch/blob/main/SECURITY.md#untrusted-models for more details). In a future release, the default value for `weights_only` will be flipped to `True`. This limits the functions that could be executed during unpickling. Arbitrary objects will no longer be allowed to be loaded via this mode unless they are explicitly allowlisted by the user via `torch.serialization.add_safe_globals`. We recommend you start setting `weights_only=True` for any use case where you don't have full control of the loaded file. Please open an issue on GitHub for any issues related to this experimental feature.\n",
      "  return torch.load(checkpoint_file, map_location=map_location)\n"
     ]
    },
    {
     "data": {
      "application/vnd.jupyter.widget-view+json": {
       "model_id": "a152d2e651ce48b59575a20a9e79f0e2",
       "version_major": 2,
       "version_minor": 0
      },
      "text/plain": [
       "tokenizer_config.json:   0%|          | 0.00/338 [00:00<?, ?B/s]"
      ]
     },
     "metadata": {},
     "output_type": "display_data"
    },
    {
     "data": {
      "application/vnd.jupyter.widget-view+json": {
       "model_id": "82bc869da4a94f80afcb5cbd7c9b8883",
       "version_major": 2,
       "version_minor": 0
      },
      "text/plain": [
       "vocab.txt:   0%|          | 0.00/843k [00:00<?, ?B/s]"
      ]
     },
     "metadata": {},
     "output_type": "display_data"
    },
    {
     "data": {
      "application/vnd.jupyter.widget-view+json": {
       "model_id": "89deabbcb9f84a858fb4f41e22bed717",
       "version_major": 2,
       "version_minor": 0
      },
      "text/plain": [
       "bpe.codes:   0%|          | 0.00/1.08M [00:00<?, ?B/s]"
      ]
     },
     "metadata": {},
     "output_type": "display_data"
    },
    {
     "data": {
      "application/vnd.jupyter.widget-view+json": {
       "model_id": "abfee9f0148f49edb22868c61506922b",
       "version_major": 2,
       "version_minor": 0
      },
      "text/plain": [
       "added_tokens.json:   0%|          | 0.00/22.0 [00:00<?, ?B/s]"
      ]
     },
     "metadata": {},
     "output_type": "display_data"
    },
    {
     "data": {
      "application/vnd.jupyter.widget-view+json": {
       "model_id": "0fb41a8372bb46d7afc21b525cb6962f",
       "version_major": 2,
       "version_minor": 0
      },
      "text/plain": [
       "special_tokens_map.json:   0%|          | 0.00/167 [00:00<?, ?B/s]"
      ]
     },
     "metadata": {},
     "output_type": "display_data"
    },
    {
     "name": "stderr",
     "output_type": "stream",
     "text": [
      "C:\\Users\\DIBYOJIT\\AppData\\Local\\RStudio\\ctx\\lib\\site-packages\\accelerate\\accelerator.py:451: FutureWarning: Passing the following arguments to `Accelerator` is deprecated and will be removed in version 1.0 of Accelerate: dict_keys(['dispatch_batches']). Please pass an `accelerate.DataLoaderConfiguration` instead: \n",
      "dataloader_config = DataLoaderConfiguration(dispatch_batches=None)\n",
      "  warnings.warn(\n"
     ]
    }
   ],
   "source": [
    "hs= create_analyzer(task='hate_speech', lang='en')"
   ]
  },
  {
   "cell_type": "code",
   "execution_count": 31,
   "id": "37096a28",
   "metadata": {},
   "outputs": [
    {
     "data": {
      "text/plain": [
       "AnalyzerOutput(output=[], probas={hateful: 0.024, targeted: 0.011, aggressive: 0.012})"
      ]
     },
     "execution_count": 31,
     "metadata": {},
     "output_type": "execute_result"
    }
   ],
   "source": [
    "hs1= hs.predict(\"I hate playing mobile games\")\n",
    "hs1"
   ]
  },
  {
   "cell_type": "code",
   "execution_count": 32,
   "id": "b0a36be4",
   "metadata": {},
   "outputs": [
    {
     "data": {
      "text/plain": [
       "AnalyzerOutput(output=[], probas={hateful: 0.028, targeted: 0.019, aggressive: 0.015})"
      ]
     },
     "execution_count": 32,
     "metadata": {},
     "output_type": "execute_result"
    }
   ],
   "source": [
    "hs2=  hs.predict(\"I am enraged to see such a rude behaviour\")\n",
    "hs2"
   ]
  },
  {
   "cell_type": "code",
   "execution_count": 35,
   "id": "161d68d5",
   "metadata": {},
   "outputs": [
    {
     "data": {
      "text/plain": [
       "'hateful'"
      ]
     },
     "execution_count": 35,
     "metadata": {},
     "output_type": "execute_result"
    }
   ],
   "source": [
    "next(iter(hs2.probas))"
   ]
  },
  {
   "cell_type": "code",
   "execution_count": 37,
   "id": "69117fb3",
   "metadata": {},
   "outputs": [
    {
     "data": {
      "text/plain": [
       "('hateful', 0.027961790561676025)"
      ]
     },
     "execution_count": 37,
     "metadata": {},
     "output_type": "execute_result"
    }
   ],
   "source": [
    "hs2.probas.items()\n",
    "\n",
    "next(iter(hs2.probas.items()))"
   ]
  },
  {
   "cell_type": "code",
   "execution_count": 38,
   "id": "1dad5ec4",
   "metadata": {},
   "outputs": [],
   "source": [
    "def hs_detection(text):\n",
    "    hs= create_analyzer(task='hate_speech', lang='en')\n",
    "    hs2=  hs.predict(text)\n",
    "    print(hs2.output)\n",
    "    print(hs2.probas)"
   ]
  },
  {
   "cell_type": "code",
   "execution_count": 39,
   "id": "127f4aa1",
   "metadata": {},
   "outputs": [
    {
     "name": "stderr",
     "output_type": "stream",
     "text": [
      "C:\\Users\\DIBYOJIT\\AppData\\Local\\RStudio\\ctx\\lib\\site-packages\\huggingface_hub\\file_download.py:1150: FutureWarning: `resume_download` is deprecated and will be removed in version 1.0.0. Downloads always resume when possible. If you want to force a new download, use `force_download=True`.\n",
      "  warnings.warn(\n",
      "C:\\Users\\DIBYOJIT\\AppData\\Local\\RStudio\\ctx\\lib\\site-packages\\transformers\\modeling_utils.py:479: FutureWarning: You are using `torch.load` with `weights_only=False` (the current default value), which uses the default pickle module implicitly. It is possible to construct malicious pickle data which will execute arbitrary code during unpickling (See https://github.com/pytorch/pytorch/blob/main/SECURITY.md#untrusted-models for more details). In a future release, the default value for `weights_only` will be flipped to `True`. This limits the functions that could be executed during unpickling. Arbitrary objects will no longer be allowed to be loaded via this mode unless they are explicitly allowlisted by the user via `torch.serialization.add_safe_globals`. We recommend you start setting `weights_only=True` for any use case where you don't have full control of the loaded file. Please open an issue on GitHub for any issues related to this experimental feature.\n",
      "  return torch.load(checkpoint_file, map_location=map_location)\n"
     ]
    },
    {
     "name": "stdout",
     "output_type": "stream",
     "text": [
      "['hateful', 'targeted', 'aggressive']\n",
      "{'hateful': 0.8550714254379272, 'targeted': 0.8052955865859985, 'aggressive': 0.8136231899261475}\n"
     ]
    },
    {
     "name": "stderr",
     "output_type": "stream",
     "text": [
      "C:\\Users\\DIBYOJIT\\AppData\\Local\\RStudio\\ctx\\lib\\site-packages\\accelerate\\accelerator.py:451: FutureWarning: Passing the following arguments to `Accelerator` is deprecated and will be removed in version 1.0 of Accelerate: dict_keys(['dispatch_batches']). Please pass an `accelerate.DataLoaderConfiguration` instead: \n",
      "dataloader_config = DataLoaderConfiguration(dispatch_batches=None)\n",
      "  warnings.warn(\n"
     ]
    }
   ],
   "source": [
    "hs_detection(\"I will kill you\")"
   ]
  },
  {
   "cell_type": "code",
   "execution_count": 40,
   "id": "4f4a6f33",
   "metadata": {},
   "outputs": [
    {
     "name": "stderr",
     "output_type": "stream",
     "text": [
      "C:\\Users\\DIBYOJIT\\AppData\\Local\\RStudio\\ctx\\lib\\site-packages\\huggingface_hub\\file_download.py:1150: FutureWarning: `resume_download` is deprecated and will be removed in version 1.0.0. Downloads always resume when possible. If you want to force a new download, use `force_download=True`.\n",
      "  warnings.warn(\n",
      "C:\\Users\\DIBYOJIT\\AppData\\Local\\RStudio\\ctx\\lib\\site-packages\\accelerate\\accelerator.py:451: FutureWarning: Passing the following arguments to `Accelerator` is deprecated and will be removed in version 1.0 of Accelerate: dict_keys(['dispatch_batches']). Please pass an `accelerate.DataLoaderConfiguration` instead: \n",
      "dataloader_config = DataLoaderConfiguration(dispatch_batches=None)\n",
      "  warnings.warn(\n"
     ]
    },
    {
     "name": "stdout",
     "output_type": "stream",
     "text": [
      "others\n",
      "{'others': 0.7143170237541199, 'joy': 0.27394524216651917, 'sadness': 0.0025825698394328356, 'anger': 0.0011036964133381844, 'surprise': 0.003638620488345623, 'disgust': 0.0017782460199669003, 'fear': 0.002634572796523571}\n"
     ]
    },
    {
     "name": "stderr",
     "output_type": "stream",
     "text": [
      "C:\\Users\\DIBYOJIT\\AppData\\Local\\RStudio\\ctx\\lib\\site-packages\\transformers\\modeling_utils.py:479: FutureWarning: You are using `torch.load` with `weights_only=False` (the current default value), which uses the default pickle module implicitly. It is possible to construct malicious pickle data which will execute arbitrary code during unpickling (See https://github.com/pytorch/pytorch/blob/main/SECURITY.md#untrusted-models for more details). In a future release, the default value for `weights_only` will be flipped to `True`. This limits the functions that could be executed during unpickling. Arbitrary objects will no longer be allowed to be loaded via this mode unless they are explicitly allowlisted by the user via `torch.serialization.add_safe_globals`. We recommend you start setting `weights_only=True` for any use case where you don't have full control of the loaded file. Please open an issue on GitHub for any issues related to this experimental feature.\n",
      "  return torch.load(checkpoint_file, map_location=map_location)\n"
     ]
    },
    {
     "name": "stdout",
     "output_type": "stream",
     "text": [
      "[]\n",
      "{'hateful': 0.015174854546785355, 'targeted': 0.009029679000377655, 'aggressive': 0.012033920735120773}\n"
     ]
    }
   ],
   "source": [
    "text= \"\"\"\n",
    "These positive emotions broaden an individual’s momentary thought-action repertoire: \n",
    "joy sparks the urge to play, interest sparks the urge to explore, contentment sparks the urge to savour and integrate, and love sparks a recurring cycle of each of these urges within safe, close relationships.”\n",
    "\"\"\"\n",
    "emo= emotion_recognition(text)\n",
    "hate= hs_detection(text)"
   ]
  }
 ],
 "metadata": {
  "kernelspec": {
   "display_name": "Python 3 (ipykernel)",
   "language": "python",
   "name": "python3"
  },
  "language_info": {
   "codemirror_mode": {
    "name": "ipython",
    "version": 3
   },
   "file_extension": ".py",
   "mimetype": "text/x-python",
   "name": "python",
   "nbconvert_exporter": "python",
   "pygments_lexer": "ipython3",
   "version": "3.9.17"
  }
 },
 "nbformat": 4,
 "nbformat_minor": 5
}
