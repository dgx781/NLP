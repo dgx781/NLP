{
 "cells": [
  {
   "cell_type": "code",
   "execution_count": 34,
   "id": "be748524",
   "metadata": {},
   "outputs": [],
   "source": [
    "import pandas as pd\n",
    "import tensorflow as tf"
   ]
  },
  {
   "cell_type": "code",
   "execution_count": 2,
   "id": "77ac4968",
   "metadata": {},
   "outputs": [
    {
     "name": "stdout",
     "output_type": "stream",
     "text": [
      "Requirement already satisfied: transformers in c:\\users\\dibyojit\\appdata\\roaming\\python\\python39\\site-packages (4.39.3)\n",
      "Requirement already satisfied: beautifulsoup4 in c:\\users\\dibyojit\\appdata\\local\\rstudio\\ctx\\lib\\site-packages (4.12.2)\n",
      "Requirement already satisfied: filelock in c:\\users\\dibyojit\\appdata\\roaming\\python\\python39\\site-packages (from transformers) (3.14.0)\n",
      "Requirement already satisfied: huggingface-hub<1.0,>=0.19.3 in c:\\users\\dibyojit\\appdata\\local\\rstudio\\ctx\\lib\\site-packages (from transformers) (0.24.3)\n",
      "Requirement already satisfied: numpy>=1.17 in c:\\users\\dibyojit\\appdata\\roaming\\python\\python39\\site-packages (from transformers) (1.24.4)\n",
      "Requirement already satisfied: packaging>=20.0 in c:\\users\\dibyojit\\appdata\\roaming\\python\\python39\\site-packages (from transformers) (24.1)\n",
      "Requirement already satisfied: pyyaml>=5.1 in c:\\users\\dibyojit\\appdata\\local\\rstudio\\ctx\\lib\\site-packages (from transformers) (6.0)\n",
      "Requirement already satisfied: regex!=2019.12.17 in c:\\users\\dibyojit\\appdata\\local\\rstudio\\ctx\\lib\\site-packages (from transformers) (2022.7.9)\n",
      "Requirement already satisfied: requests in c:\\users\\dibyojit\\appdata\\roaming\\python\\python39\\site-packages (from transformers) (2.28.2)\n",
      "Requirement already satisfied: tokenizers<0.19,>=0.14 in c:\\users\\dibyojit\\appdata\\roaming\\python\\python39\\site-packages (from transformers) (0.15.2)\n",
      "Requirement already satisfied: safetensors>=0.4.1 in c:\\users\\dibyojit\\appdata\\roaming\\python\\python39\\site-packages (from transformers) (0.4.3)\n",
      "Requirement already satisfied: tqdm>=4.27 in c:\\users\\dibyojit\\appdata\\local\\rstudio\\ctx\\lib\\site-packages (from transformers) (4.65.0)\n",
      "Requirement already satisfied: soupsieve>1.2 in c:\\users\\dibyojit\\appdata\\local\\rstudio\\ctx\\lib\\site-packages (from beautifulsoup4) (2.4)\n",
      "Requirement already satisfied: fsspec>=2023.5.0 in c:\\users\\dibyojit\\appdata\\local\\rstudio\\ctx\\lib\\site-packages (from huggingface-hub<1.0,>=0.19.3->transformers) (2024.6.1)\n",
      "Requirement already satisfied: typing-extensions>=3.7.4.3 in c:\\users\\dibyojit\\appdata\\local\\rstudio\\ctx\\lib\\site-packages (from huggingface-hub<1.0,>=0.19.3->transformers) (4.10.0)\n",
      "Requirement already satisfied: colorama in c:\\users\\dibyojit\\appdata\\local\\rstudio\\ctx\\lib\\site-packages (from tqdm>=4.27->transformers) (0.4.6)\n",
      "Requirement already satisfied: charset-normalizer<4,>=2 in c:\\users\\dibyojit\\appdata\\local\\rstudio\\ctx\\lib\\site-packages (from requests->transformers) (2.0.4)\n",
      "Requirement already satisfied: idna<4,>=2.5 in c:\\users\\dibyojit\\appdata\\local\\rstudio\\ctx\\lib\\site-packages (from requests->transformers) (2.10)\n",
      "Requirement already satisfied: urllib3<1.27,>=1.21.1 in c:\\users\\dibyojit\\appdata\\local\\rstudio\\ctx\\lib\\site-packages (from requests->transformers) (1.26.16)\n",
      "Requirement already satisfied: certifi>=2017.4.17 in c:\\users\\dibyojit\\appdata\\local\\rstudio\\ctx\\lib\\site-packages (from requests->transformers) (2023.7.22)\n"
     ]
    },
    {
     "name": "stderr",
     "output_type": "stream",
     "text": [
      "WARNING: Ignoring invalid distribution -rotobuf (c:\\users\\dibyojit\\appdata\\local\\rstudio\\ctx\\lib\\site-packages)\n",
      "WARNING: Ignoring invalid distribution -rotobuf (c:\\users\\dibyojit\\appdata\\local\\rstudio\\ctx\\lib\\site-packages)\n"
     ]
    }
   ],
   "source": [
    "!pip install transformers beautifulsoup4"
   ]
  },
  {
   "cell_type": "code",
   "execution_count": 1,
   "id": "e442cc9f",
   "metadata": {},
   "outputs": [],
   "source": [
    "from transformers import AutoTokenizer, AutoModelForSequenceClassification\n",
    "import torch\n",
    "import requests\n",
    "from bs4 import BeautifulSoup\n",
    "import re"
   ]
  },
  {
   "cell_type": "code",
   "execution_count": 3,
   "id": "68a02463",
   "metadata": {},
   "outputs": [
    {
     "name": "stderr",
     "output_type": "stream",
     "text": [
      "C:\\Users\\DIBYOJIT\\AppData\\Local\\RStudio\\ctx\\lib\\site-packages\\huggingface_hub\\file_download.py:1150: FutureWarning: `resume_download` is deprecated and will be removed in version 1.0.0. Downloads always resume when possible. If you want to force a new download, use `force_download=True`.\n",
      "  warnings.warn(\n"
     ]
    }
   ],
   "source": [
    "tokenizer= AutoTokenizer.from_pretrained('nlptown/bert-base-multilingual-uncased-sentiment')\n",
    "\n",
    "model= AutoModelForSequenceClassification.from_pretrained('nlptown/bert-base-multilingual-uncased-sentiment')"
   ]
  },
  {
   "cell_type": "code",
   "execution_count": 8,
   "id": "a31f2888",
   "metadata": {},
   "outputs": [],
   "source": [
    "tokens= tokenizer.encode('Wow! Its a lovely experience. I have never been exposed to something like that before', return_tensors='pt')"
   ]
  },
  {
   "cell_type": "code",
   "execution_count": 9,
   "id": "03f7d7aa",
   "metadata": {},
   "outputs": [
    {
     "data": {
      "text/plain": [
       "tensor([[  101, 94608,   106, 10491,   143, 83944, 16277,   119,   151, 10574,\n",
       "         13362, 10662, 47617, 10114, 19501, 11531, 10203, 11364,   102]])"
      ]
     },
     "execution_count": 9,
     "metadata": {},
     "output_type": "execute_result"
    }
   ],
   "source": [
    "tokens"
   ]
  },
  {
   "cell_type": "code",
   "execution_count": 10,
   "id": "05f7d64a",
   "metadata": {},
   "outputs": [
    {
     "data": {
      "text/plain": [
       "'[CLS] wow! its a lovely experience. i have never been exposed to something like that before [SEP]'"
      ]
     },
     "execution_count": 10,
     "metadata": {},
     "output_type": "execute_result"
    }
   ],
   "source": [
    "tokenizer.decode(tokens[0])"
   ]
  },
  {
   "cell_type": "code",
   "execution_count": 11,
   "id": "193e79a9",
   "metadata": {},
   "outputs": [],
   "source": [
    "results= model(tokens)"
   ]
  },
  {
   "cell_type": "code",
   "execution_count": 14,
   "id": "09863ed5",
   "metadata": {},
   "outputs": [
    {
     "data": {
      "text/plain": [
       "SequenceClassifierOutput(loss=None, logits=tensor([[-2.6392, -2.8140, -1.1300,  1.7278,  3.8367]],\n",
       "       grad_fn=<AddmmBackward0>), hidden_states=None, attentions=None)"
      ]
     },
     "execution_count": 14,
     "metadata": {},
     "output_type": "execute_result"
    }
   ],
   "source": [
    "results"
   ]
  },
  {
   "cell_type": "code",
   "execution_count": 17,
   "id": "a0e573b6",
   "metadata": {},
   "outputs": [
    {
     "data": {
      "text/plain": [
       "tensor(4)"
      ]
     },
     "execution_count": 17,
     "metadata": {},
     "output_type": "execute_result"
    }
   ],
   "source": [
    "torch.argmax(results.logits)"
   ]
  },
  {
   "cell_type": "code",
   "execution_count": 18,
   "id": "50b5d129",
   "metadata": {},
   "outputs": [
    {
     "data": {
      "text/plain": [
       "5"
      ]
     },
     "execution_count": 18,
     "metadata": {},
     "output_type": "execute_result"
    }
   ],
   "source": [
    "int(torch.argmax(results.logits))+1"
   ]
  },
  {
   "cell_type": "code",
   "execution_count": 19,
   "id": "95409999",
   "metadata": {},
   "outputs": [],
   "source": [
    "enc= tokenizer.encode('I absolutely hate it. This is totally worthless', return_tensors='pt')"
   ]
  },
  {
   "cell_type": "code",
   "execution_count": 20,
   "id": "1d73bf79",
   "metadata": {},
   "outputs": [
    {
     "data": {
      "text/plain": [
       "tensor([[  101,   151, 35925, 10563, 39487, 10197,   119, 10372, 10127, 79053,\n",
       "         25840, 15470,   102]])"
      ]
     },
     "execution_count": 20,
     "metadata": {},
     "output_type": "execute_result"
    }
   ],
   "source": [
    "enc"
   ]
  },
  {
   "cell_type": "code",
   "execution_count": 21,
   "id": "1b616a4a",
   "metadata": {},
   "outputs": [],
   "source": [
    "encoder= model(enc)"
   ]
  },
  {
   "cell_type": "code",
   "execution_count": 22,
   "id": "da8b88fd",
   "metadata": {},
   "outputs": [
    {
     "data": {
      "text/plain": [
       "SequenceClassifierOutput(loss=None, logits=tensor([[ 5.1554,  1.2196, -1.1190, -2.7853, -1.6698]],\n",
       "       grad_fn=<AddmmBackward0>), hidden_states=None, attentions=None)"
      ]
     },
     "execution_count": 22,
     "metadata": {},
     "output_type": "execute_result"
    }
   ],
   "source": [
    "encoder"
   ]
  },
  {
   "cell_type": "code",
   "execution_count": 24,
   "id": "0ea92316",
   "metadata": {},
   "outputs": [
    {
     "data": {
      "text/plain": [
       "1"
      ]
     },
     "execution_count": 24,
     "metadata": {},
     "output_type": "execute_result"
    }
   ],
   "source": [
    "int(torch.argmax(encoder.logits))+1"
   ]
  },
  {
   "cell_type": "code",
   "execution_count": 26,
   "id": "2e8464d6",
   "metadata": {},
   "outputs": [],
   "source": [
    "r= requests.get('https://www.yelp.com/biz/mejico-sydney-2')\n",
    "soup= BeautifulSoup(r.text, 'html.parser')\n",
    "exp= re.compile('.*comment.')\n",
    "results= soup.find_all('p', {'class':exp})\n",
    "review= [comment.text for comment in results]"
   ]
  },
  {
   "cell_type": "code",
   "execution_count": 29,
   "id": "319ec180",
   "metadata": {},
   "outputs": [
    {
     "data": {
      "text/plain": [
       "[<p class=\"comment__09f24__D0cxf y-css-h9c2fl\"><span class=\"raw__09f24__T4Ezm\" lang=\"en\">Seated without a booking on a super busy Saturday night. Lovely, warm, and Theo right hostess also looked after our table and went out of her way to give detailed ingredients in every dish to avoid allergies for one of us. And the food was great! Guacamole made right at our table, everything prepared with our allergies in mind, and great dish recommendations. We'd been visiting Sydney for about a week from Melbourne, and this was by far our best dining experience. I'd definitely return here in the future.</span></p>,\n",
       " <p class=\"comment__09f24__D0cxf y-css-h9c2fl\"><span class=\"raw__09f24__T4Ezm\" lang=\"en\">The food was decent not great..  We had the guacamole which was bland and came with some type of plantain chips.. The chicken and steak tacos were good.. But the service was poor. We had a waitress with an attitude. She seemed upset whenever we asked for anything.  She would walk by and just stick up her hand and say \" just wait \".  She spilled the ingredients to make the guacamole all over the table but never apologized. The waitress didn't come by at all, not even once to check on us.. I will not go back. Suggest you find a Mexican restaurant that really wants your business..</span></p>,\n",
       " <p class=\"comment__09f24__D0cxf y-css-h9c2fl\"><span class=\"raw__09f24__T4Ezm\" lang=\"en\">Food was okay, guacamole was below average. Service was awful. Waitress acted like she was missing the Finals in The Australian Open. In such a hurry she spilled the fixings for the less than average guac. Took less than a minute to take our order but it wasn't fast enough for her. Felt like we were intruding on her screen time. The food was fair. Prices were way too high for the level of mediocrity in the food. Average food, lousy service Wouldn't recommend this place</span></p>,\n",
       " <p class=\"comment__09f24__D0cxf y-css-h9c2fl\"><span class=\"raw__09f24__T4Ezm\" lang=\"en\">The food and service here was really good.  It was more like tapas food than Mexican food!  The drinks were amazing too!</span></p>,\n",
       " <p class=\"comment__09f24__D0cxf y-css-h9c2fl\"><span class=\"raw__09f24__T4Ezm\" lang=\"en\">Visiting from Texas and decided to give this restaurant a try.  We were pleasantly surprised.  While the margaritas are more like martinis, the food was excellent.  More like a tapas, Mexican fusion.  Great way to try different plates.<br/>The real treat was Chelsea, our waitress.  Took the time to explain the menu and offer suggestions.  Always smiling and very pleasant.  Best service we have had in Sydney!</span></p>,\n",
       " <p class=\"comment__09f24__D0cxf y-css-h9c2fl\"><span class=\"raw__09f24__T4Ezm\" lang=\"en\">Don't come here expecting legit Mexican food but a modern twist on some staples. Loud party area, fun drinks and friendly staff make this a hip meeting area for large groups. Drinks were better than the food. <br/><br/>They stuff the families toward the back but lack any amenities (no changing table) except a high chair. <br/><br/>Service started off friendly but it took a while to get someone to take our order and then they forgot our dish which came out cold when we asked for it. Then we had to flag someone down to pay the bill. <br/><br/>The watermelon salad was tasty but not complex, tossed with a few cucumbers and pistachios. The corn lollipops with spicy mayo sauce were probably the best dish. The beef empanadas were cold and average though the salsa was an interesting pickled onion. Definitely skip the octopus dish- it was dry, over cooked and lacked flavor though the presentation looked promising. It came with squares of polenta and dallops of potato mash with a dramatic squid ink streak across the dish but no interesting flavors stood out. All those dishes and still left hungry. <br/><br/>The Guadalajara passion fruit drink was easy to sip and not too strong. The beer was average. <br/><br/>This is more of a spot to grab some mixed cocktails and a few snacks but not meal worthy.</span></p>,\n",
       " <p class=\"comment__09f24__D0cxf y-css-h9c2fl\"><span class=\"raw__09f24__T4Ezm\" lang=\"en\">Out of all the restaurants that I tried in Sydney, this was definitely the most reasonably priced one offering good food of course. We started off with Margarita's - they have $10 margaritas on Mondays (or perhaps all weekdays). We lost count of how many we had, they were so good. <br/><br/>On to the food, we tried a little bit of everything - we ordered corn lollipops, jalapeño poppers, grilled halloumi, batata bravas to start and we shared 2 items from the grill which I can't remember (probably because of the margarita's). We ended with churros &amp; chocolate sauce which was awesome. <br/><br/>Service was good and the staff waiting us was very friendly. He also recommended us portions for certain items to match our party size. For instance, we didn't have to order 2 portions of an appetizer instead we could order one and a half portion which I think was great. It allowed us to chose more dishes than more quantity of the same dish.</span></p>,\n",
       " <p class=\"comment__09f24__D0cxf y-css-h9c2fl\"><span class=\"raw__09f24__T4Ezm\" lang=\"en\">Great atmosphere, attentive service, solid margs, and a Tasty menu. The Brisket Tacos were substantial and delicious. The corn ribs???  Fawgetaboutit!  Unreal.  Wanted to order another plate.</span></p>,\n",
       " <p class=\"comment__09f24__D0cxf y-css-h9c2fl\"><span class=\"raw__09f24__T4Ezm\" lang=\"en\">We came here on a Thursday night @ 5pm and by 6pm the place was packed. A lovely big restaurant with a bar at the front (which is a bit awkward to try and push past everyone to get to your table). Friendly, helpful staff which is always a good start. <br/><br/>The menu is large so we went with the \"feed me\" selection. All you need to do is sit back and let the chef feed you. As the other reviewers have stated the corn is a highlight and the pulled pork tacos, the sangria wasn't bad either.<br/><br/>Loved the Mexican tapas style food and will be back.</span></p>,\n",
       " <p class=\"comment__09f24__D0cxf y-css-h9c2fl\"><span class=\"raw__09f24__T4Ezm\" lang=\"en\">The food is fresh and tasty.  The scallop ceviche started the lunch. The scallops were tender with a great acidity and use of mango and peppers. The steak was tender and I got the hint of tequila in the sauce. I enjoyed a watermelon salad that complimented the the steak. The portions are good, but a stretch if you are sharing. My only down point is the service. They really only showed up to present my next plate and never checked to see if I wanted another drink (which I did).<br/><br/>Enjoyed the food.</span></p>]"
      ]
     },
     "execution_count": 29,
     "metadata": {},
     "output_type": "execute_result"
    }
   ],
   "source": [
    "results"
   ]
  },
  {
   "cell_type": "code",
   "execution_count": 30,
   "id": "a785dc73",
   "metadata": {},
   "outputs": [
    {
     "data": {
      "text/plain": [
       "[\"Seated without a booking on a super busy Saturday night. Lovely, warm, and Theo right hostess also looked after our table and went out of her way to give detailed ingredients in every dish to avoid allergies for one of us. And the food was great! Guacamole made right at our table, everything prepared with our allergies in mind, and great dish recommendations. We'd been visiting Sydney for about a week from Melbourne, and this was by far our best dining experience. I'd definitely return here in the future.\",\n",
       " 'The food was decent not great..  We had the guacamole which was bland and came with some type of plantain chips.. The chicken and steak tacos were good.. But the service was poor. We had a waitress with an attitude. She seemed upset whenever we asked for anything.  She would walk by and just stick up her hand and say \" just wait \".  She spilled the ingredients to make the guacamole all over the table but never apologized. The waitress didn\\'t come by at all, not even once to check on us.. I will not go back. Suggest you find a Mexican restaurant that really wants your business..',\n",
       " \"Food was okay, guacamole was below average. Service was awful. Waitress acted like she was missing the Finals in The Australian Open. In such a hurry she spilled the fixings for the less than average guac. Took less than a minute to take our order but it wasn't fast enough for her. Felt like we were intruding on her screen time. The food was fair. Prices were way too high for the level of mediocrity in the food. Average food, lousy service Wouldn't recommend this place\",\n",
       " 'The food and service here was really good.  It was more like tapas food than Mexican food!  The drinks were amazing too!',\n",
       " 'Visiting from Texas and decided to give this restaurant a try.  We were pleasantly surprised.  While the margaritas are more like martinis, the food was excellent.  More like a tapas, Mexican fusion.  Great way to try different plates.The real treat was Chelsea, our waitress.  Took the time to explain the menu and offer suggestions.  Always smiling and very pleasant.  Best service we have had in Sydney!',\n",
       " \"Don't come here expecting legit Mexican food but a modern twist on some staples. Loud party area, fun drinks and friendly staff make this a hip meeting area for large groups. Drinks were better than the food. They stuff the families toward the back but lack any amenities (no changing table) except a high chair. Service started off friendly but it took a while to get someone to take our order and then they forgot our dish which came out cold when we asked for it. Then we had to flag someone down to pay the bill. The watermelon salad was tasty but not complex, tossed with a few cucumbers and pistachios. The corn lollipops with spicy mayo sauce were probably the best dish. The beef empanadas were cold and average though the salsa was an interesting pickled onion. Definitely skip the octopus dish- it was dry, over cooked and lacked flavor though the presentation looked promising. It came with squares of polenta and dallops of potato mash with a dramatic squid ink streak across the dish but no interesting flavors stood out. All those dishes and still left hungry. The Guadalajara passion fruit drink was easy to sip and not too strong. The beer was average. This is more of a spot to grab some mixed cocktails and a few snacks but not meal worthy.\",\n",
       " \"Out of all the restaurants that I tried in Sydney, this was definitely the most reasonably priced one offering good food of course. We started off with Margarita's - they have $10 margaritas on Mondays (or perhaps all weekdays). We lost count of how many we had, they were so good. On to the food, we tried a little bit of everything - we ordered corn lollipops, jalapeño poppers, grilled halloumi, batata bravas to start and we shared 2 items from the grill which I can't remember (probably because of the margarita's). We ended with churros & chocolate sauce which was awesome. Service was good and the staff waiting us was very friendly. He also recommended us portions for certain items to match our party size. For instance, we didn't have to order 2 portions of an appetizer instead we could order one and a half portion which I think was great. It allowed us to chose more dishes than more quantity of the same dish.\",\n",
       " 'Great atmosphere, attentive service, solid margs, and a Tasty menu. The Brisket Tacos were substantial and delicious. The corn ribs???  Fawgetaboutit!  Unreal.  Wanted to order another plate.',\n",
       " 'We came here on a Thursday night @ 5pm and by 6pm the place was packed. A lovely big restaurant with a bar at the front (which is a bit awkward to try and push past everyone to get to your table). Friendly, helpful staff which is always a good start. The menu is large so we went with the \"feed me\" selection. All you need to do is sit back and let the chef feed you. As the other reviewers have stated the corn is a highlight and the pulled pork tacos, the sangria wasn\\'t bad either.Loved the Mexican tapas style food and will be back.',\n",
       " 'The food is fresh and tasty.  The scallop ceviche started the lunch. The scallops were tender with a great acidity and use of mango and peppers. The steak was tender and I got the hint of tequila in the sauce. I enjoyed a watermelon salad that complimented the the steak. The portions are good, but a stretch if you are sharing. My only down point is the service. They really only showed up to present my next plate and never checked to see if I wanted another drink (which I did).Enjoyed the food.']"
      ]
     },
     "execution_count": 30,
     "metadata": {},
     "output_type": "execute_result"
    }
   ],
   "source": [
    "review"
   ]
  },
  {
   "cell_type": "code",
   "execution_count": 32,
   "id": "ff7850a1",
   "metadata": {},
   "outputs": [
    {
     "data": {
      "text/plain": [
       "\"Seated without a booking on a super busy Saturday night. Lovely, warm, and Theo right hostess also looked after our table and went out of her way to give detailed ingredients in every dish to avoid allergies for one of us. And the food was great! Guacamole made right at our table, everything prepared with our allergies in mind, and great dish recommendations. We'd been visiting Sydney for about a week from Melbourne, and this was by far our best dining experience. I'd definitely return here in the future.\""
      ]
     },
     "execution_count": 32,
     "metadata": {},
     "output_type": "execute_result"
    }
   ],
   "source": [
    "results[0].text"
   ]
  },
  {
   "cell_type": "code",
   "execution_count": 39,
   "id": "20fb512e",
   "metadata": {},
   "outputs": [],
   "source": [
    "import numpy as np\n",
    "\n",
    "df= pd.DataFrame(np.array(review), columns=['reviews'])"
   ]
  },
  {
   "cell_type": "code",
   "execution_count": 40,
   "id": "96c0554c",
   "metadata": {},
   "outputs": [
    {
     "data": {
      "text/html": [
       "<div>\n",
       "<style scoped>\n",
       "    .dataframe tbody tr th:only-of-type {\n",
       "        vertical-align: middle;\n",
       "    }\n",
       "\n",
       "    .dataframe tbody tr th {\n",
       "        vertical-align: top;\n",
       "    }\n",
       "\n",
       "    .dataframe thead th {\n",
       "        text-align: right;\n",
       "    }\n",
       "</style>\n",
       "<table border=\"1\" class=\"dataframe\">\n",
       "  <thead>\n",
       "    <tr style=\"text-align: right;\">\n",
       "      <th></th>\n",
       "      <th>reviews</th>\n",
       "    </tr>\n",
       "  </thead>\n",
       "  <tbody>\n",
       "    <tr>\n",
       "      <th>0</th>\n",
       "      <td>Seated without a booking on a super busy Satur...</td>\n",
       "    </tr>\n",
       "    <tr>\n",
       "      <th>1</th>\n",
       "      <td>The food was decent not great..  We had the gu...</td>\n",
       "    </tr>\n",
       "    <tr>\n",
       "      <th>2</th>\n",
       "      <td>Food was okay, guacamole was below average. Se...</td>\n",
       "    </tr>\n",
       "    <tr>\n",
       "      <th>3</th>\n",
       "      <td>The food and service here was really good.  It...</td>\n",
       "    </tr>\n",
       "    <tr>\n",
       "      <th>4</th>\n",
       "      <td>Visiting from Texas and decided to give this r...</td>\n",
       "    </tr>\n",
       "  </tbody>\n",
       "</table>\n",
       "</div>"
      ],
      "text/plain": [
       "                                             reviews\n",
       "0  Seated without a booking on a super busy Satur...\n",
       "1  The food was decent not great..  We had the gu...\n",
       "2  Food was okay, guacamole was below average. Se...\n",
       "3  The food and service here was really good.  It...\n",
       "4  Visiting from Texas and decided to give this r..."
      ]
     },
     "execution_count": 40,
     "metadata": {},
     "output_type": "execute_result"
    }
   ],
   "source": [
    "df.head()"
   ]
  },
  {
   "cell_type": "code",
   "execution_count": 42,
   "id": "753e05f5",
   "metadata": {},
   "outputs": [
    {
     "data": {
      "text/plain": [
       "\"Seated without a booking on a super busy Saturday night. Lovely, warm, and Theo right hostess also looked after our table and went out of her way to give detailed ingredients in every dish to avoid allergies for one of us. And the food was great! Guacamole made right at our table, everything prepared with our allergies in mind, and great dish recommendations. We'd been visiting Sydney for about a week from Melbourne, and this was by far our best dining experience. I'd definitely return here in the future.\""
      ]
     },
     "execution_count": 42,
     "metadata": {},
     "output_type": "execute_result"
    }
   ],
   "source": [
    "df['reviews'][0]"
   ]
  },
  {
   "cell_type": "code",
   "execution_count": 43,
   "id": "e92472cc",
   "metadata": {},
   "outputs": [],
   "source": [
    "def senti_ana(reviews):\n",
    "    tokenizer= AutoTokenizer.from_pretrained('nlptown/bert-base-multilingual-uncased-sentiment')\n",
    "    model= AutoModelForSequenceClassification.from_pretrained('nlptown/bert-base-multilingual-uncased-sentiment')\n",
    "    tokens= tokenizer.encode(reviews, return_tensors='pt')\n",
    "    result= model(tokens)\n",
    "    return int(torch.argmax(result.logits))+1"
   ]
  },
  {
   "cell_type": "code",
   "execution_count": 44,
   "id": "3e7774bc",
   "metadata": {},
   "outputs": [
    {
     "name": "stderr",
     "output_type": "stream",
     "text": [
      "C:\\Users\\DIBYOJIT\\AppData\\Local\\RStudio\\ctx\\lib\\site-packages\\huggingface_hub\\file_download.py:1150: FutureWarning: `resume_download` is deprecated and will be removed in version 1.0.0. Downloads always resume when possible. If you want to force a new download, use `force_download=True`.\n",
      "  warnings.warn(\n"
     ]
    },
    {
     "data": {
      "text/plain": [
       "5"
      ]
     },
     "execution_count": 44,
     "metadata": {},
     "output_type": "execute_result"
    }
   ],
   "source": [
    "senti_ana(df['reviews'][0])"
   ]
  },
  {
   "cell_type": "code",
   "execution_count": 45,
   "id": "16754e40",
   "metadata": {},
   "outputs": [
    {
     "data": {
      "text/plain": [
       "2"
      ]
     },
     "execution_count": 45,
     "metadata": {},
     "output_type": "execute_result"
    }
   ],
   "source": [
    "senti_ana(df['reviews'][1])"
   ]
  },
  {
   "cell_type": "code",
   "execution_count": 46,
   "id": "36b3f7d8",
   "metadata": {},
   "outputs": [
    {
     "name": "stderr",
     "output_type": "stream",
     "text": [
      "C:\\Users\\DIBYOJIT\\AppData\\Local\\RStudio\\ctx\\lib\\site-packages\\huggingface_hub\\file_download.py:1150: FutureWarning: `resume_download` is deprecated and will be removed in version 1.0.0. Downloads always resume when possible. If you want to force a new download, use `force_download=True`.\n",
      "  warnings.warn(\n"
     ]
    }
   ],
   "source": [
    "df['sentiment']= df['reviews'].apply(lambda x: senti_ana(x))"
   ]
  },
  {
   "cell_type": "code",
   "execution_count": 48,
   "id": "0967f39e",
   "metadata": {},
   "outputs": [
    {
     "data": {
      "text/html": [
       "<div>\n",
       "<style scoped>\n",
       "    .dataframe tbody tr th:only-of-type {\n",
       "        vertical-align: middle;\n",
       "    }\n",
       "\n",
       "    .dataframe tbody tr th {\n",
       "        vertical-align: top;\n",
       "    }\n",
       "\n",
       "    .dataframe thead th {\n",
       "        text-align: right;\n",
       "    }\n",
       "</style>\n",
       "<table border=\"1\" class=\"dataframe\">\n",
       "  <thead>\n",
       "    <tr style=\"text-align: right;\">\n",
       "      <th></th>\n",
       "      <th>reviews</th>\n",
       "      <th>sentiment</th>\n",
       "    </tr>\n",
       "  </thead>\n",
       "  <tbody>\n",
       "    <tr>\n",
       "      <th>0</th>\n",
       "      <td>Seated without a booking on a super busy Satur...</td>\n",
       "      <td>5</td>\n",
       "    </tr>\n",
       "    <tr>\n",
       "      <th>1</th>\n",
       "      <td>The food was decent not great..  We had the gu...</td>\n",
       "      <td>2</td>\n",
       "    </tr>\n",
       "    <tr>\n",
       "      <th>2</th>\n",
       "      <td>Food was okay, guacamole was below average. Se...</td>\n",
       "      <td>2</td>\n",
       "    </tr>\n",
       "    <tr>\n",
       "      <th>3</th>\n",
       "      <td>The food and service here was really good.  It...</td>\n",
       "      <td>5</td>\n",
       "    </tr>\n",
       "    <tr>\n",
       "      <th>4</th>\n",
       "      <td>Visiting from Texas and decided to give this r...</td>\n",
       "      <td>5</td>\n",
       "    </tr>\n",
       "    <tr>\n",
       "      <th>5</th>\n",
       "      <td>Don't come here expecting legit Mexican food b...</td>\n",
       "      <td>3</td>\n",
       "    </tr>\n",
       "    <tr>\n",
       "      <th>6</th>\n",
       "      <td>Out of all the restaurants that I tried in Syd...</td>\n",
       "      <td>5</td>\n",
       "    </tr>\n",
       "    <tr>\n",
       "      <th>7</th>\n",
       "      <td>Great atmosphere, attentive service, solid mar...</td>\n",
       "      <td>3</td>\n",
       "    </tr>\n",
       "    <tr>\n",
       "      <th>8</th>\n",
       "      <td>We came here on a Thursday night @ 5pm and by ...</td>\n",
       "      <td>4</td>\n",
       "    </tr>\n",
       "    <tr>\n",
       "      <th>9</th>\n",
       "      <td>The food is fresh and tasty.  The scallop cevi...</td>\n",
       "      <td>4</td>\n",
       "    </tr>\n",
       "  </tbody>\n",
       "</table>\n",
       "</div>"
      ],
      "text/plain": [
       "                                             reviews  sentiment\n",
       "0  Seated without a booking on a super busy Satur...          5\n",
       "1  The food was decent not great..  We had the gu...          2\n",
       "2  Food was okay, guacamole was below average. Se...          2\n",
       "3  The food and service here was really good.  It...          5\n",
       "4  Visiting from Texas and decided to give this r...          5\n",
       "5  Don't come here expecting legit Mexican food b...          3\n",
       "6  Out of all the restaurants that I tried in Syd...          5\n",
       "7  Great atmosphere, attentive service, solid mar...          3\n",
       "8  We came here on a Thursday night @ 5pm and by ...          4\n",
       "9  The food is fresh and tasty.  The scallop cevi...          4"
      ]
     },
     "execution_count": 48,
     "metadata": {},
     "output_type": "execute_result"
    }
   ],
   "source": [
    "df"
   ]
  },
  {
   "cell_type": "code",
   "execution_count": 50,
   "id": "3e1a9447",
   "metadata": {},
   "outputs": [],
   "source": [
    "r2= requests.get('https://www.yelp.com/biz/social-brew-cafe-pyrmont')\n",
    "soup= BeautifulSoup(r2.text, 'html.parser')\n",
    "exp= re.compile('.*comment.')\n",
    "results= soup.find_all('p', {'class':exp})\n",
    "review= [comment.text for comment in results]"
   ]
  },
  {
   "cell_type": "code",
   "execution_count": 51,
   "id": "0f47b3bd",
   "metadata": {},
   "outputs": [
    {
     "data": {
      "text/plain": [
       "[<p class=\"comment__09f24__D0cxf y-css-h9c2fl\"><span class=\"raw__09f24__T4Ezm\" lang=\"en\">Very cute coffee shop and restaurant. They have a lovely outdoor seating area and several tables inside.  It was fairly busy on a Tuesday morning but we were to grab the last open table. The server was so enjoyable, she chatted and joked with us and provided fast service with our ordering, drinks and meals. <br/><br/>The food was very good. We ordered a wide variety and every meal was good to delicious. The sweet potato fries on the Chicken Burger plate were absolutely delicious, some of the best I've ever had. <br/><br/>I definitely enjoyed this cafe, the outdoor seating, the service and the food!!</span></p>,\n",
       " <p class=\"comment__09f24__D0cxf y-css-h9c2fl\"><span class=\"raw__09f24__T4Ezm\" lang=\"en\">Six of us met here for breakfast before our walk to Manly. We were enjoying visiting with each other so much that I apologize for not taking any photos. <br/>We all enjoyed our food, as well as our coffee and tea drinks.<br/>We were greeted immediately by a friendly server asking if we would like to sit inside or out. We said we would like inside, but weren't exactly sure how many were joining us yet- at least 4. We were told this was no problem, the more the merrier. A few minutes later when 4 more joined our party and we explained to the server we had 6, he just quickly switched our table. <br/>I really enjoyed my serenity tea, just what I needed after a long flight in from Sfo that morning. Everyone else were more interested in the lattes for expresso drinks. All said they were hot and delicious. <br/>2 of us ordered the avo on toast. So yummy with the beetroot... I will start adding this to mine now at home, and have fond memories for my trip to Sydney. <br/>2 friends ordered the salmon Benedict- saying it was delicious, and their go to every time they come here. <br/>2 friends had a breakfast sandwich- I'm not sure of the name. It did look delicious. <br/>Adorable cafe, friendly staff, clean restrooms<br/>Very popular with the locals. <br/>I plan to come back the next time I'm in Sydney</span></p>,\n",
       " <p class=\"comment__09f24__D0cxf y-css-h9c2fl\"><span class=\"raw__09f24__T4Ezm\" lang=\"en\">We came for brunch and they ran out of seven separate menu items. We tried ordering multiple times and each time were let down with them not having what we wanted. It's understandable to not have certain things, but to have half of your menu not available is a bit ridiculous. When we finally were able to get something it was good, but we had to wait around 10-15 minutes after ordering to be told that they were out of something. Disappointing because of high expectations.</span></p>,\n",
       " <p class=\"comment__09f24__D0cxf y-css-h9c2fl\"><span class=\"raw__09f24__T4Ezm\" lang=\"en\">Great place with delicious food and friendly staff. It is small but has outdoor seating and a relaxed ambiance. Perfect place to enjoy a cup of coffee. I am visiting Sydney for the first time but this place seems like is a local favorite.</span></p>,\n",
       " <p class=\"comment__09f24__D0cxf y-css-h9c2fl\"><span class=\"raw__09f24__T4Ezm\" lang=\"en\">The food was delicious. The ricotta pancakes were light and tasty.  The cream brûlée French toast was a fruit lovers delight. There was fresh strawberries, blueberries, passion fruit and custard. No syrup required. And crispy kale as a side ordered with eggs. Worth the walk over the Pyrmont bridge.</span></p>,\n",
       " <p class=\"comment__09f24__D0cxf y-css-h9c2fl\"><span class=\"raw__09f24__T4Ezm\" lang=\"en\">Great food amazing coffee and tea. Short walk from the harbor. Staff was very friendly</span></p>,\n",
       " <p class=\"comment__09f24__D0cxf y-css-h9c2fl\"><span class=\"raw__09f24__T4Ezm\" lang=\"en\">Great service, lovely location, and really amazing food. Words don't do justice. We had the mushroom parm bruschetta and the loaded double double. Both were so tasty. Also love the Aussie black tea and a flat white. Wish I had more mornings in Sydney to eat breakfast there. Highly recommend.</span></p>,\n",
       " <p class=\"comment__09f24__D0cxf y-css-h9c2fl\"><span class=\"raw__09f24__T4Ezm\" lang=\"en\">Ricotta hot cakes! These were so yummy. I ate them pretty fast and didn't share with anyone because they were that good ;). <br/><br/>I ordered a green smoothie to balance it all out. Smoothie was a nice way to end my brekkie at this restaurant. <br/><br/>Others with me ordered the salmon Benedict and the smoked salmon flatbread. They were all delicious and all plates were empty. <br/><br/>Cheers!</span></p>,\n",
       " <p class=\"comment__09f24__D0cxf y-css-h9c2fl\"><span class=\"raw__09f24__T4Ezm\" lang=\"en\">We came for brunch twice in our week-long visit to Sydney. Everything on the menu not only sounds delicious, but is really tasty. It really gave us a sour taste of how bad breaky is in America with what's so readily available in Sydney!  Both days we went were Saturdays and there was a bit of a wait to be seated, the cafe is extremely busy for both dine-in and take-away. Service is fairly quick and servers are all friendly. The location is in Surrey Hills a couple blocks away from the bustling touristy Darling Harbor.<br/>The green smoothie is very tasty and refreshing. We tried the smoked salmon salad, the soft shell crab tacos, ricotta hotcakes, and the breaky sandwich. All were delicious, well seasoned, and a solid amount of food for the price. A definite recommend for anyone's trip into Sydney!</span></p>,\n",
       " <p class=\"comment__09f24__D0cxf y-css-h9c2fl\"><span class=\"raw__09f24__T4Ezm\" lang=\"en\">It was ok. Had coffee with my friends. I'm new in the area, still need to discover new places.</span></p>]"
      ]
     },
     "execution_count": 51,
     "metadata": {},
     "output_type": "execute_result"
    }
   ],
   "source": [
    "results"
   ]
  },
  {
   "cell_type": "code",
   "execution_count": 52,
   "id": "c74d8c7b",
   "metadata": {},
   "outputs": [
    {
     "data": {
      "text/plain": [
       "[\"Very cute coffee shop and restaurant. They have a lovely outdoor seating area and several tables inside.  It was fairly busy on a Tuesday morning but we were to grab the last open table. The server was so enjoyable, she chatted and joked with us and provided fast service with our ordering, drinks and meals. The food was very good. We ordered a wide variety and every meal was good to delicious. The sweet potato fries on the Chicken Burger plate were absolutely delicious, some of the best I've ever had. I definitely enjoyed this cafe, the outdoor seating, the service and the food!!\",\n",
       " \"Six of us met here for breakfast before our walk to Manly. We were enjoying visiting with each other so much that I apologize for not taking any photos. We all enjoyed our food, as well as our coffee and tea drinks.We were greeted immediately by a friendly server asking if we would like to sit inside or out. We said we would like inside, but weren't exactly sure how many were joining us yet- at least 4. We were told this was no problem, the more the merrier. A few minutes later when 4 more joined our party and we explained to the server we had 6, he just quickly switched our table. I really enjoyed my serenity tea, just what I needed after a long flight in from Sfo that morning. Everyone else were more interested in the lattes for expresso drinks. All said they were hot and delicious. 2 of us ordered the avo on toast. So yummy with the beetroot... I will start adding this to mine now at home, and have fond memories for my trip to Sydney. 2 friends ordered the salmon Benedict- saying it was delicious, and their go to every time they come here. 2 friends had a breakfast sandwich- I'm not sure of the name. It did look delicious. Adorable cafe, friendly staff, clean restroomsVery popular with the locals. I plan to come back the next time I'm in Sydney\",\n",
       " \"We came for brunch and they ran out of seven separate menu items. We tried ordering multiple times and each time were let down with them not having what we wanted. It's understandable to not have certain things, but to have half of your menu not available is a bit ridiculous. When we finally were able to get something it was good, but we had to wait around 10-15 minutes after ordering to be told that they were out of something. Disappointing because of high expectations.\",\n",
       " 'Great place with delicious food and friendly staff. It is small but has outdoor seating and a relaxed ambiance. Perfect place to enjoy a cup of coffee. I am visiting Sydney for the first time but this place seems like is a local favorite.',\n",
       " 'The food was delicious. The ricotta pancakes were light and tasty.  The cream brûlée French toast was a fruit lovers delight. There was fresh strawberries, blueberries, passion fruit and custard. No syrup required. And crispy kale as a side ordered with eggs. Worth the walk over the Pyrmont bridge.',\n",
       " 'Great food amazing coffee and tea. Short walk from the harbor. Staff was very friendly',\n",
       " \"Great service, lovely location, and really amazing food. Words don't do justice. We had the mushroom parm bruschetta and the loaded double double. Both were so tasty. Also love the Aussie black tea and a flat white. Wish I had more mornings in Sydney to eat breakfast there. Highly recommend.\",\n",
       " \"Ricotta hot cakes! These were so yummy. I ate them pretty fast and didn't share with anyone because they were that good ;). I ordered a green smoothie to balance it all out. Smoothie was a nice way to end my brekkie at this restaurant. Others with me ordered the salmon Benedict and the smoked salmon flatbread. They were all delicious and all plates were empty. Cheers!\",\n",
       " \"We came for brunch twice in our week-long visit to Sydney. Everything on the menu not only sounds delicious, but is really tasty. It really gave us a sour taste of how bad breaky is in America with what's so readily available in Sydney!  Both days we went were Saturdays and there was a bit of a wait to be seated, the cafe is extremely busy for both dine-in and take-away. Service is fairly quick and servers are all friendly. The location is in Surrey Hills a couple blocks away from the bustling touristy Darling Harbor.The green smoothie is very tasty and refreshing. We tried the smoked salmon salad, the soft shell crab tacos, ricotta hotcakes, and the breaky sandwich. All were delicious, well seasoned, and a solid amount of food for the price. A definite recommend for anyone's trip into Sydney!\",\n",
       " \"It was ok. Had coffee with my friends. I'm new in the area, still need to discover new places.\"]"
      ]
     },
     "execution_count": 52,
     "metadata": {},
     "output_type": "execute_result"
    }
   ],
   "source": [
    "review"
   ]
  },
  {
   "cell_type": "code",
   "execution_count": 54,
   "id": "3356cf9a",
   "metadata": {},
   "outputs": [],
   "source": [
    "df2= pd.DataFrame(review, columns=['Opinions'])"
   ]
  },
  {
   "cell_type": "code",
   "execution_count": 55,
   "id": "19691e49",
   "metadata": {},
   "outputs": [
    {
     "data": {
      "text/html": [
       "<div>\n",
       "<style scoped>\n",
       "    .dataframe tbody tr th:only-of-type {\n",
       "        vertical-align: middle;\n",
       "    }\n",
       "\n",
       "    .dataframe tbody tr th {\n",
       "        vertical-align: top;\n",
       "    }\n",
       "\n",
       "    .dataframe thead th {\n",
       "        text-align: right;\n",
       "    }\n",
       "</style>\n",
       "<table border=\"1\" class=\"dataframe\">\n",
       "  <thead>\n",
       "    <tr style=\"text-align: right;\">\n",
       "      <th></th>\n",
       "      <th>Opinions</th>\n",
       "    </tr>\n",
       "  </thead>\n",
       "  <tbody>\n",
       "    <tr>\n",
       "      <th>0</th>\n",
       "      <td>Very cute coffee shop and restaurant. They hav...</td>\n",
       "    </tr>\n",
       "    <tr>\n",
       "      <th>1</th>\n",
       "      <td>Six of us met here for breakfast before our wa...</td>\n",
       "    </tr>\n",
       "    <tr>\n",
       "      <th>2</th>\n",
       "      <td>We came for brunch and they ran out of seven s...</td>\n",
       "    </tr>\n",
       "    <tr>\n",
       "      <th>3</th>\n",
       "      <td>Great place with delicious food and friendly s...</td>\n",
       "    </tr>\n",
       "    <tr>\n",
       "      <th>4</th>\n",
       "      <td>The food was delicious. The ricotta pancakes w...</td>\n",
       "    </tr>\n",
       "  </tbody>\n",
       "</table>\n",
       "</div>"
      ],
      "text/plain": [
       "                                            Opinions\n",
       "0  Very cute coffee shop and restaurant. They hav...\n",
       "1  Six of us met here for breakfast before our wa...\n",
       "2  We came for brunch and they ran out of seven s...\n",
       "3  Great place with delicious food and friendly s...\n",
       "4  The food was delicious. The ricotta pancakes w..."
      ]
     },
     "execution_count": 55,
     "metadata": {},
     "output_type": "execute_result"
    }
   ],
   "source": [
    "df2.head()"
   ]
  },
  {
   "cell_type": "code",
   "execution_count": 56,
   "id": "7c532e71",
   "metadata": {},
   "outputs": [
    {
     "name": "stderr",
     "output_type": "stream",
     "text": [
      "C:\\Users\\DIBYOJIT\\AppData\\Local\\RStudio\\ctx\\lib\\site-packages\\huggingface_hub\\file_download.py:1150: FutureWarning: `resume_download` is deprecated and will be removed in version 1.0.0. Downloads always resume when possible. If you want to force a new download, use `force_download=True`.\n",
      "  warnings.warn(\n"
     ]
    },
    {
     "data": {
      "text/plain": [
       "5"
      ]
     },
     "execution_count": 56,
     "metadata": {},
     "output_type": "execute_result"
    }
   ],
   "source": [
    "senti_ana(df2['Opinions'][0])"
   ]
  }
 ],
 "metadata": {
  "kernelspec": {
   "display_name": "Python 3 (ipykernel)",
   "language": "python",
   "name": "python3"
  },
  "language_info": {
   "codemirror_mode": {
    "name": "ipython",
    "version": 3
   },
   "file_extension": ".py",
   "mimetype": "text/x-python",
   "name": "python",
   "nbconvert_exporter": "python",
   "pygments_lexer": "ipython3",
   "version": "3.9.17"
  }
 },
 "nbformat": 4,
 "nbformat_minor": 5
}
